{
 "cells": [
  {
   "cell_type": "code",
   "execution_count": 1,
   "metadata": {
    "collapsed": true
   },
   "outputs": [],
   "source": [
    "import re\n",
    "import json\n",
    "import pprint\n",
    "import pandas as pd\n",
    "import seaborn as sns\n",
    "import matplotlib.pyplot as plt\n",
    "\n",
    "%matplotlib inline"
   ]
  },
  {
   "cell_type": "code",
   "execution_count": 6,
   "metadata": {
    "collapsed": true
   },
   "outputs": [],
   "source": [
    "#HELPER FUNCTIONS\n",
    "def get_tag_data(json_dataset):\n",
    "    \"\"\"\n",
    "    # info on available address fields ( and how are they used )\n",
    "    # export addr data to pandas-dataset [ element-id, addr-field, addr-field-val ]\n",
    "    #   run analysis of the dataset\n",
    "    \"\"\"\n",
    "    data_header = ['node_id', 'node_type', 'tag', 'val']\n",
    "    raw_data = []\n",
    "    for json_node in json_dataset:\n",
    "        if 'tags' in json_node:\n",
    "            for tag in json_node['tags']:\n",
    "                raw_data.append([\n",
    "                    json_node['id'],\n",
    "                    json_node['type'],\n",
    "                    tag,\n",
    "                    json_node['tags'][tag]\n",
    "                ])\n",
    "        else:\n",
    "            raw_data.append([\n",
    "                json_node['id'],\n",
    "                json_node['type'],\n",
    "                None,\n",
    "                None\n",
    "            ])\n",
    "    return pd.DataFrame(raw_data, columns=data_header)\n"
   ]
  },
  {
   "cell_type": "code",
   "execution_count": 21,
   "metadata": {
    "collapsed": false
   },
   "outputs": [
    {
     "data": {
      "text/html": [
       "<div>\n",
       "<table border=\"1\" class=\"dataframe\">\n",
       "  <thead>\n",
       "    <tr style=\"text-align: right;\">\n",
       "      <th></th>\n",
       "      <th>node_id</th>\n",
       "      <th>node_type</th>\n",
       "      <th>tag</th>\n",
       "      <th>val</th>\n",
       "    </tr>\n",
       "  </thead>\n",
       "  <tbody>\n",
       "    <tr>\n",
       "      <th>6</th>\n",
       "      <td>31866760</td>\n",
       "      <td>node</td>\n",
       "      <td>waterway</td>\n",
       "      <td>slipway</td>\n",
       "    </tr>\n",
       "    <tr>\n",
       "      <th>16</th>\n",
       "      <td>65384740</td>\n",
       "      <td>node</td>\n",
       "      <td>highway</td>\n",
       "      <td>turning_circle</td>\n",
       "    </tr>\n",
       "    <tr>\n",
       "      <th>21</th>\n",
       "      <td>65392413</td>\n",
       "      <td>node</td>\n",
       "      <td>highway</td>\n",
       "      <td>turning_circle</td>\n",
       "    </tr>\n",
       "    <tr>\n",
       "      <th>27</th>\n",
       "      <td>65400452</td>\n",
       "      <td>node</td>\n",
       "      <td>highway</td>\n",
       "      <td>turning_circle</td>\n",
       "    </tr>\n",
       "    <tr>\n",
       "      <th>50</th>\n",
       "      <td>65429242</td>\n",
       "      <td>node</td>\n",
       "      <td>highway</td>\n",
       "      <td>turning_circle</td>\n",
       "    </tr>\n",
       "  </tbody>\n",
       "</table>\n",
       "</div>"
      ],
      "text/plain": [
       "     node_id node_type       tag             val\n",
       "6   31866760      node  waterway         slipway\n",
       "16  65384740      node   highway  turning_circle\n",
       "21  65392413      node   highway  turning_circle\n",
       "27  65400452      node   highway  turning_circle\n",
       "50  65429242      node   highway  turning_circle"
      ]
     },
     "execution_count": 21,
     "metadata": {},
     "output_type": "execute_result"
    }
   ],
   "source": [
    "#CONST DEFINITIONS\n",
    "DATA_SOURCE='..\\sample-100-redwood-city-ca.osm.json'\n",
    "\n",
    "#LOADING DATA\n",
    "parsed_json_data = []\n",
    "for line in open(DATA_SOURCE, 'r'):\n",
    "    parsed_json_data.append(json.loads(line))\n",
    "    \n",
    "data_df = get_tag_data(parsed_json_data)\n",
    "tag_data_df = data_df[data_df['tag'].notnull()]\n",
    "tag_data_df.head()"
   ]
  },
  {
   "cell_type": "code",
   "execution_count": 37,
   "metadata": {
    "collapsed": false
   },
   "outputs": [
    {
     "data": {
      "text/plain": [
       "building                   958\n",
       "source                     458\n",
       "highway                    203\n",
       "redwood_city_ca:bld_gid    185\n",
       "redwood_city_ca:addr_id    178\n",
       "name                       112\n",
       "paloalto_ca:id              73\n",
       "tiger:county                70\n",
       "tiger:cfcc                  59\n",
       "tiger:name_base             59\n",
       "tiger:name_type             53\n",
       "service                     53\n",
       "oneway                      41\n",
       "tiger:reviewed              25\n",
       "maxspeed                    21\n",
       "amenity                     17\n",
       "lanes                       17\n",
       "redwood_city_ca:bldg_id     16\n",
       "shop                        15\n",
       "phone                       14\n",
       "turn:lanes                  13\n",
       "surface                     12\n",
       "tiger:name_base_1           11\n",
       "source:maxspeed              9\n",
       "hgv                          8\n",
       "ref                          8\n",
       "emergency                    7\n",
       "leisure                      6\n",
       "gnis:feature_id              6\n",
       "website                      6\n",
       "                          ... \n",
       "male                         1\n",
       "source_import                1\n",
       "gnis:reviewed                1\n",
       "level                        1\n",
       "owner                        1\n",
       "STATEFP                      1\n",
       "roof:shape                   1\n",
       "denomination                 1\n",
       "electrified                  1\n",
       "unisex                       1\n",
       "lanes:backward               1\n",
       "tiger:name_type_1            1\n",
       "lanes:forward                1\n",
       "direction                    1\n",
       "religion                     1\n",
       "craft                        1\n",
       "AREAID                       1\n",
       "MTFCC                        1\n",
       "sport                        1\n",
       "access:bicycle               1\n",
       "COUNTYFP                     1\n",
       "FMMP_modified                1\n",
       "Tiger:MTFCC                  1\n",
       "AWATER                       1\n",
       "gnis:county_name             1\n",
       "tunnel                       1\n",
       "female                       1\n",
       "longitude                    1\n",
       "acres                        1\n",
       "access:foot                  1\n",
       "Name: tag, dtype: int64"
      ]
     },
     "execution_count": 37,
     "metadata": {},
     "output_type": "execute_result"
    }
   ],
   "source": [
    "#Investigate tags\n",
    "tag_data_df['tag'].value_counts()"
   ]
  },
  {
   "cell_type": "code",
   "execution_count": 38,
   "metadata": {
    "collapsed": false
   },
   "outputs": [
    {
     "name": "stdout",
     "output_type": "stream",
     "text": [
      "[building]~~~~~~~~~~~~~~~~~~~~~~~~~~~~~~~~~~~~~~\n",
      "yes            915\n",
      "house           24\n",
      "residential     17\n",
      "retail           1\n",
      "garage           1\n",
      "Name: val, dtype: int64\n",
      "[source]~~~~~~~~~~~~~~~~~~~~~~~~~~~~~~~~~~~~~~\n",
      "City of Redwood City, CA 1013                                                     236\n",
      "bing                                                                               84\n",
      "City of Palo Alto CA 0713                                                          72\n",
      "Bing                                                                               25\n",
      "photograph                                                                         17\n",
      "Redwood City 0813                                                                   7\n",
      "Yahoo                                                                               3\n",
      "yahoo                                                                               3\n",
      "bing;photograph                                                                     2\n",
      "mapquest open naip                                                                  1\n",
      "survey                                                                              1\n",
      "PGS                                                                                 1\n",
      "NHD                                                                                 1\n",
      "http://www.consrv.ca.gov/dlrp/fmmp/products/Pages/DownloadGISdata.aspx              1\n",
      "City of Palo Alto CA 0713;USGS Geonames                                             1\n",
      "https://googledrive.com/host/0B5Urq1jZb1MYWWY4cnVaejNDLTg/paloalto/opengisdata      1\n",
      "Tiger2009                                                                           1\n",
      "USGS Geonames                                                                       1\n",
      "Name: val, dtype: int64\n",
      "[service]~~~~~~~~~~~~~~~~~~~~~~~~~~~~~~~~~~~~~~\n",
      "parking_aisle    42\n",
      "driveway          8\n",
      "alley             2\n",
      "siding            1\n",
      "Name: val, dtype: int64\n",
      "[amenity]~~~~~~~~~~~~~~~~~~~~~~~~~~~~~~~~~~~~~~\n",
      "parking             6\n",
      "restaurant          6\n",
      "library             1\n",
      "hospital            1\n",
      "theatre             1\n",
      "school              1\n",
      "place_of_worship    1\n",
      "Name: val, dtype: int64\n",
      "[shop]~~~~~~~~~~~~~~~~~~~~~~~~~~~~~~~~~~~~~~\n",
      "electronics     3\n",
      "car_repair      2\n",
      "hairdresser     2\n",
      "beauty          2\n",
      "clothes         1\n",
      "supermarket     1\n",
      "pet             1\n",
      "mobile_phone    1\n",
      "convenience     1\n",
      "tattoo          1\n",
      "Name: val, dtype: int64\n",
      "[emergency]~~~~~~~~~~~~~~~~~~~~~~~~~~~~~~~~~~~~~~\n",
      "fire_hydrant    7\n",
      "Name: val, dtype: int64\n"
     ]
    }
   ],
   "source": [
    "#Investigate tags of interest\n",
    "for tag in ['building', 'source', 'service', 'amenity', 'shop', 'emergency']:\n",
    "    print '[%s]~~~~~~~~~~~~~~~~~~~~~~~~~~~~~~~~~~~~~~' % tag\n",
    "    print tag_data_df[tag_data_df['tag'] == tag]['val'].value_counts()"
   ]
  }
 ],
 "metadata": {
  "anaconda-cloud": {},
  "kernelspec": {
   "display_name": "Python [default]",
   "language": "python",
   "name": "python2"
  },
  "language_info": {
   "codemirror_mode": {
    "name": "ipython",
    "version": 2
   },
   "file_extension": ".py",
   "mimetype": "text/x-python",
   "name": "python",
   "nbconvert_exporter": "python",
   "pygments_lexer": "ipython2",
   "version": "2.7.12"
  }
 },
 "nbformat": 4,
 "nbformat_minor": 1
}
