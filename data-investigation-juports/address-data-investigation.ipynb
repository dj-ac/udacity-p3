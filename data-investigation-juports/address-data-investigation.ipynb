{
 "cells": [
  {
   "cell_type": "code",
   "execution_count": 120,
   "metadata": {
    "collapsed": true
   },
   "outputs": [],
   "source": [
    "import re\n",
    "import json\n",
    "import pprint\n",
    "import pandas as pd\n",
    "import seaborn as sns\n",
    "import matplotlib.pyplot as plt\n",
    "\n",
    "%matplotlib inline"
   ]
  },
  {
   "cell_type": "code",
   "execution_count": 7,
   "metadata": {
    "collapsed": true
   },
   "outputs": [],
   "source": [
    "#HELPER FUNCTIONS\n",
    "def get_addr_data(json_dataset):\n",
    "    \"\"\"\n",
    "    # info on available address fields ( and how are they used )\n",
    "    # export addr data to pandas-dataset [ element-id, addr-field, addr-field-val ]\n",
    "    #   run analysis of the dataset\n",
    "    \"\"\"\n",
    "    data_header = ['node_id', 'node_type', 'tag', 'val']\n",
    "    raw_data = []\n",
    "    for json_node in json_dataset:\n",
    "        if 'address' in json_node:\n",
    "            for tag in json_node['address']:\n",
    "                raw_data.append([\n",
    "                    json_node['id'],\n",
    "                    json_node['type'],\n",
    "                    tag,\n",
    "                    json_node['address'][tag]\n",
    "                ])\n",
    "        else:\n",
    "            raw_data.append([\n",
    "                json_node['id'],\n",
    "                json_node['type'],\n",
    "                None,\n",
    "                None\n",
    "            ])\n",
    "    return pd.DataFrame(raw_data, columns=data_header)\n",
    "\n",
    "\n"
   ]
  },
  {
   "cell_type": "code",
   "execution_count": 107,
   "metadata": {
    "collapsed": false
   },
   "outputs": [],
   "source": [
    "#CONST DEFINITIONS\n",
    "DATA_SOURCE='..\\sample-100-redwood-city-ca.osm.json'\n",
    "\n",
    "#LOADING DATA\n",
    "parsed_json_data = []\n",
    "for line in open(DATA_SOURCE, 'r'):\n",
    "    parsed_json_data.append(json.loads(line))\n",
    "    \n",
    "data_df = get_addr_data(parsed_json_data)\n",
    "\n",
    "data_addr_df = data_df[pd.notnull(data_df['tag'])]"
   ]
  },
  {
   "cell_type": "code",
   "execution_count": 98,
   "metadata": {
    "collapsed": false
   },
   "outputs": [
    {
     "data": {
      "text/html": [
       "<div>\n",
       "<table border=\"1\" class=\"dataframe\">\n",
       "  <thead>\n",
       "    <tr style=\"text-align: right;\">\n",
       "      <th></th>\n",
       "      <th>node_id</th>\n",
       "      <th>node_type</th>\n",
       "      <th>tag</th>\n",
       "      <th>val</th>\n",
       "    </tr>\n",
       "  </thead>\n",
       "  <tbody>\n",
       "    <tr>\n",
       "      <th>98</th>\n",
       "      <td>1337779743</td>\n",
       "      <td>node</td>\n",
       "      <td>housenumber</td>\n",
       "      <td>66</td>\n",
       "    </tr>\n",
       "    <tr>\n",
       "      <th>143</th>\n",
       "      <td>1438723123</td>\n",
       "      <td>node</td>\n",
       "      <td>housenumber</td>\n",
       "      <td>355</td>\n",
       "    </tr>\n",
       "    <tr>\n",
       "      <th>179</th>\n",
       "      <td>1599245638</td>\n",
       "      <td>node</td>\n",
       "      <td>housenumber</td>\n",
       "      <td>70</td>\n",
       "    </tr>\n",
       "    <tr>\n",
       "      <th>181</th>\n",
       "      <td>1641208803</td>\n",
       "      <td>node</td>\n",
       "      <td>housenumber</td>\n",
       "      <td>805</td>\n",
       "    </tr>\n",
       "    <tr>\n",
       "      <th>184</th>\n",
       "      <td>1733719626</td>\n",
       "      <td>node</td>\n",
       "      <td>city</td>\n",
       "      <td>Redwood City</td>\n",
       "    </tr>\n",
       "  </tbody>\n",
       "</table>\n",
       "</div>"
      ],
      "text/plain": [
       "        node_id node_type          tag           val\n",
       "98   1337779743      node  housenumber            66\n",
       "143  1438723123      node  housenumber           355\n",
       "179  1599245638      node  housenumber            70\n",
       "181  1641208803      node  housenumber           805\n",
       "184  1733719626      node         city  Redwood City"
      ]
     },
     "execution_count": 98,
     "metadata": {},
     "output_type": "execute_result"
    }
   ],
   "source": [
    "data_addr_df.head()"
   ]
  },
  {
   "cell_type": "code",
   "execution_count": 108,
   "metadata": {
    "collapsed": false
   },
   "outputs": [
    {
     "name": "stdout",
     "output_type": "stream",
     "text": [
      "Number of nodes: 442\n",
      "Listing the unique address tags:\n",
      "[u'state' u'city' u'street' u'housenumber' u'postcode' u'unit' u'country'\n",
      " u'county']\n",
      "count             988\n",
      "unique              8\n",
      "top       housenumber\n",
      "freq              383\n",
      "Name: tag, dtype: object\n"
     ]
    }
   ],
   "source": [
    "print \"Number of nodes: %d\" % len(data_addr_df['node_id'].unique())\n",
    "print \"Listing the unique address tags:\"\n",
    "print data_addr_df['tag'].unique()\n",
    "print data_addr_df['tag'].describe()"
   ]
  },
  {
   "cell_type": "code",
   "execution_count": 109,
   "metadata": {
    "collapsed": false
   },
   "outputs": [
    {
     "data": {
      "text/plain": [
       "<matplotlib.axes._subplots.AxesSubplot at 0xdd947b8>"
      ]
     },
     "execution_count": 109,
     "metadata": {},
     "output_type": "execute_result"
    },
    {
     "data": {
      "image/png": "[encoded data removed]",
      "text/plain": [
       "<matplotlib.figure.Figure at 0xe410438>"
      ]
     },
     "metadata": {},
     "output_type": "display_data"
    }
   ],
   "source": [
    "#Investigating the number of tags associated with addresses\n",
    "sns.countplot ( data_addr_df['tag'] )"
   ]
  },
  {
   "cell_type": "code",
   "execution_count": 127,
   "metadata": {
    "collapsed": false
   },
   "outputs": [
    {
     "name": "stdout",
     "output_type": "stream",
     "text": [
      "[state] UNIQUE VALUE CHECK\n",
      "[u'CA']\n",
      "[city] UNIQUE VALUE CHECK\n",
      "[u'Redwood City' u'Palo Alto' u'San Mateo' u'Menlo Park']\n",
      "[postcode] UNIQUE VALUE CHECK\n",
      "[u'94063' u'94061' u'94403' u'94025']\n",
      "[country] UNIQUE VALUE CHECK\n",
      "[u'US']\n",
      "[county] UNIQUE VALUE CHECK\n",
      "[u'San Mateo' u'Santa Clara']\n"
     ]
    }
   ],
   "source": [
    "UNIQUE_CHECK_EXCLUDE = ['street', 'housenumber', 'unit']\n",
    "tags_to_check =  data_addr_df['tag'].unique()\n",
    "for tag in tags_to_check:\n",
    "    if tag in UNIQUE_CHECK_EXCLUDE:\n",
    "        continue\n",
    "    else:\n",
    "        print \"[%s] UNIQUE VALUE CHECK\" % tag\n",
    "        print data_addr_df[data_addr_df['tag'] == tag]['val'].unique()"
   ]
  },
  {
   "cell_type": "code",
   "execution_count": 128,
   "metadata": {
    "collapsed": false
   },
   "outputs": [
    {
     "data": {
      "text/plain": [
       "array([u'Street', u'Real', u'Avenue', u'Road', u'Broadway', u'Way',\n",
       "       u'Court', u'Place', u'Drive', u'Plz', u'Lane', u'Alameda',\n",
       "       u'Oakridge', u'Boulevard'], dtype=object)"
      ]
     },
     "execution_count": 128,
     "metadata": {},
     "output_type": "execute_result"
    }
   ],
   "source": [
    "#Investigate street names\n",
    "#  compiling re outside of lambda for better performance\n",
    "street_type_re = re.compile('.*\\s(?P<street_type>[^\\s]+)\\s*$')\n",
    "\n",
    "def get_street_type(df_row, street_type_re):\n",
    "    street_full_name = df_row['val']\n",
    "    street_type_match = street_type_re.match(street_full_name)\n",
    "    if street_type_match:\n",
    "        return street_type_match.group('street_type')\n",
    "    else:\n",
    "        return street_full_name\n",
    "    \n",
    "street_data_df = data_addr_df[data_addr_df['tag'] == 'street'].copy()\n",
    "street_data_df['st_type'] = street_data_df.apply( lambda row : get_street_type(row, street_type_re), axis=1)\n",
    "\n",
    "\n",
    "street_data_df.head()\n",
    "street_data_df['st_type'].unique()"
   ]
  },
  {
   "cell_type": "code",
   "execution_count": null,
   "metadata": {
    "collapsed": true
   },
   "outputs": [],
   "source": []
  }
 ],
 "metadata": {
  "anaconda-cloud": {},
  "kernelspec": {
   "display_name": "Python [default]",
   "language": "python",
   "name": "python2"
  },
  "language_info": {
   "codemirror_mode": {
    "name": "ipython",
    "version": 2
   },
   "file_extension": ".py",
   "mimetype": "text/x-python",
   "name": "python",
   "nbconvert_exporter": "python",
   "pygments_lexer": "ipython2",
   "version": "2.7.12"
  }
 },
 "nbformat": 4,
 "nbformat_minor": 1
}
