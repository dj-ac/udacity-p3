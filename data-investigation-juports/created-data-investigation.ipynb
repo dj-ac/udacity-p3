{
 "cells": [
  {
   "cell_type": "code",
   "execution_count": 1,
   "metadata": {
    "collapsed": true
   },
   "outputs": [],
   "source": [
    "import re\n",
    "import json\n",
    "import pprint\n",
    "import pandas as pd\n",
    "import seaborn as sns\n",
    "import matplotlib.pyplot as plt\n",
    "\n",
    "%matplotlib inline"
   ]
  },
  {
   "cell_type": "code",
   "execution_count": 2,
   "metadata": {
    "collapsed": true
   },
   "outputs": [],
   "source": [
    "#HELPER FUNCTIONS\n",
    "def get_property_data(json_dataset, json_property):\n",
    "    \"\"\"\n",
    "    # info on available address fields ( and how are they used )\n",
    "    # export addr data to pandas-dataset [ element-id, addr-field, addr-field-val ]\n",
    "    #   run analysis of the dataset\n",
    "    \"\"\"\n",
    "    data_header = ['node_id', 'node_type', 'tag', 'val']\n",
    "    raw_data = []\n",
    "    for json_node in json_dataset:\n",
    "        if json_property in json_node:\n",
    "            for tag in json_node[json_property]:\n",
    "                raw_data.append([\n",
    "                    json_node['id'],\n",
    "                    json_node['type'],\n",
    "                    tag,\n",
    "                    json_node[json_property][tag]\n",
    "                ])\n",
    "        else:\n",
    "            raw_data.append([\n",
    "                json_node['id'],\n",
    "                json_node['type'],\n",
    "                None,\n",
    "                None\n",
    "            ])\n",
    "    return pd.DataFrame(raw_data, columns=data_header)"
   ]
  }
 ],
 "metadata": {
  "anaconda-cloud": {},
  "kernelspec": {
   "display_name": "Python [default]",
   "language": "python",
   "name": "python2"
  },
  "language_info": {
   "codemirror_mode": {
    "name": "ipython",
    "version": 2
   },
   "file_extension": ".py",
   "mimetype": "text/x-python",
   "name": "python",
   "nbconvert_exporter": "python",
   "pygments_lexer": "ipython2",
   "version": "2.7.12"
  }
 },
 "nbformat": 4,
 "nbformat_minor": 1
}
